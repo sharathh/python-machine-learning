{
  "nbformat": 4,
  "nbformat_minor": 0,
  "metadata": {
    "colab": {
      "provenance": [],
      "authorship_tag": "ABX9TyNlXefx2H/95i3udWmXBcw4",
      "include_colab_link": true
    },
    "kernelspec": {
      "name": "python3",
      "display_name": "Python 3"
    },
    "language_info": {
      "name": "python"
    }
  },
  "cells": [
    {
      "cell_type": "markdown",
      "metadata": {
        "id": "view-in-github",
        "colab_type": "text"
      },
      "source": [
        "<a href=\"https://colab.research.google.com/github/sharathh/python-machine-learning/blob/main/2_5_Operators_in_Python.ipynb\" target=\"_parent\"><img src=\"https://colab.research.google.com/assets/colab-badge.svg\" alt=\"Open In Colab\"/></a>"
      ]
    },
    {
      "cell_type": "markdown",
      "source": [
        "Operators in Python\n",
        "1. Arithmetic Operators\n",
        "2. Assignment Operators\n",
        "3. Comparison Operators\n",
        "4. Logical Operators\n",
        "5. Identity Operators\n",
        "6. Membership Operators"
      ],
      "metadata": {
        "id": "M4_U0ah5ZNo3"
      }
    },
    {
      "cell_type": "code",
      "source": [
        "#Arithmetic operators\n",
        "num1 = 20\n",
        "num2 = 10\n",
        "#addition\n",
        "add = num1 + num2\n",
        "#subtraction\n",
        "sub = num1 - num2\n",
        "#multiplication\n",
        "mul = num1 * num2\n",
        "#division\n",
        "div = num1 / num2\n",
        "#integer division or floor division\n",
        "floor_div = num1 // num2\n",
        "#modulus\n",
        "mod = num1 % num2\n",
        "#exponent\n",
        "exp = num1 ** num2\n",
        "print(add)\n",
        "print(sub)\n",
        "print(mul)\n",
        "print(div)\n",
        "print(floor_div)\n",
        "print(mod)\n",
        "print(exp)"
      ],
      "metadata": {
        "colab": {
          "base_uri": "https://localhost:8080/"
        },
        "id": "jwRVoEz8aDm0",
        "outputId": "10459457-ab9d-4f3a-e8d4-eb917495bf06"
      },
      "execution_count": 6,
      "outputs": [
        {
          "output_type": "stream",
          "name": "stdout",
          "text": [
            "30\n",
            "10\n",
            "200\n",
            "2.0\n",
            "2\n",
            "0\n",
            "10240000000000\n"
          ]
        }
      ]
    },
    {
      "cell_type": "code",
      "source": [
        "#assignment\n",
        "a = 5\n",
        "print(a)"
      ],
      "metadata": {
        "colab": {
          "base_uri": "https://localhost:8080/"
        },
        "id": "d9JXVIDjaf2Y",
        "outputId": "ecc97e33-43c4-4eb7-adf9-b5c89f3dc0c1"
      },
      "execution_count": 7,
      "outputs": [
        {
          "output_type": "stream",
          "name": "stdout",
          "text": [
            "5\n"
          ]
        }
      ]
    },
    {
      "cell_type": "code",
      "source": [
        "a = 5\n",
        "a += 5 # a = a +5 it is a short hand notation\n",
        "print(a)"
      ],
      "metadata": {
        "colab": {
          "base_uri": "https://localhost:8080/"
        },
        "id": "r-Ho0taga95c",
        "outputId": "70bdc054-79a3-45e5-e521-9802599be2a4"
      },
      "execution_count": 8,
      "outputs": [
        {
          "output_type": "stream",
          "name": "stdout",
          "text": [
            "10\n"
          ]
        }
      ]
    },
    {
      "cell_type": "code",
      "source": [
        "b = 5\n",
        "b -=2\n",
        "print(b)"
      ],
      "metadata": {
        "colab": {
          "base_uri": "https://localhost:8080/"
        },
        "id": "JcV-DSAfbJJG",
        "outputId": "bcd0fa89-bf0e-4f67-e1d6-773ca3bfb403"
      },
      "execution_count": 9,
      "outputs": [
        {
          "output_type": "stream",
          "name": "stdout",
          "text": [
            "3\n"
          ]
        }
      ]
    },
    {
      "cell_type": "code",
      "source": [
        "a = 2\n",
        "a *= 2\n",
        "print(a)"
      ],
      "metadata": {
        "colab": {
          "base_uri": "https://localhost:8080/"
        },
        "id": "NHpkkUApbVMt",
        "outputId": "c4fd2dbc-a930-467e-cbe0-6e98c311dbc6"
      },
      "execution_count": 10,
      "outputs": [
        {
          "output_type": "stream",
          "name": "stdout",
          "text": [
            "4\n"
          ]
        }
      ]
    },
    {
      "cell_type": "code",
      "source": [
        "#comparision\n",
        "a = 5\n",
        "b = 10\n",
        "#equal to\n",
        "print(a == b)\n",
        "# not equal to\n",
        "print(a != b)\n",
        "# greater than\n",
        "print(a > b)\n",
        "#less than\n",
        "print(a < b)\n",
        "# greater than or equal to\n",
        "print(a >= b)\n",
        "#less than or equal to\n",
        "print(a <= b)"
      ],
      "metadata": {
        "colab": {
          "base_uri": "https://localhost:8080/"
        },
        "id": "zFtOWoffbc7z",
        "outputId": "2ab623c4-f072-4aab-aa1d-2b86af000df9"
      },
      "execution_count": 12,
      "outputs": [
        {
          "output_type": "stream",
          "name": "stdout",
          "text": [
            "False\n",
            "True\n",
            "False\n",
            "True\n",
            "False\n",
            "True\n"
          ]
        }
      ]
    },
    {
      "cell_type": "code",
      "source": [
        "# logical operators and or not\n",
        "a = 10\n",
        "print(a > 20 and a > 5)\n",
        "print(a > 20 or a > 5)\n",
        "print(not(a > 20 or a > 5))"
      ],
      "metadata": {
        "colab": {
          "base_uri": "https://localhost:8080/"
        },
        "id": "RVP9ca_Ob7Ra",
        "outputId": "f5e95ca9-bb1b-44d3-a500-5df48c392bf8"
      },
      "execution_count": 13,
      "outputs": [
        {
          "output_type": "stream",
          "name": "stdout",
          "text": [
            "False\n",
            "True\n",
            "False\n"
          ]
        }
      ]
    },
    {
      "cell_type": "code",
      "source": [
        "# identity operator is is not\n",
        "x = 5\n",
        "y = 5\n",
        "print(x is y)\n",
        "print(x is not y)"
      ],
      "metadata": {
        "colab": {
          "base_uri": "https://localhost:8080/"
        },
        "id": "q-neRIhCc52P",
        "outputId": "90e629e6-9272-48b4-90b3-42360f95c13d"
      },
      "execution_count": 14,
      "outputs": [
        {
          "output_type": "stream",
          "name": "stdout",
          "text": [
            "True\n",
            "False\n"
          ]
        }
      ]
    },
    {
      "cell_type": "code",
      "source": [
        "# membership operators  in not in\n",
        "x = [\"apple\", \"banana\"]\n",
        "print(\"banana\" in x)\n",
        "print(\"pineapple\" not in x)"
      ],
      "metadata": {
        "colab": {
          "base_uri": "https://localhost:8080/"
        },
        "id": "t6vSwt2-dDdz",
        "outputId": "3148e4e4-b583-4b10-e031-02afc3ee7e11"
      },
      "execution_count": 15,
      "outputs": [
        {
          "output_type": "stream",
          "name": "stdout",
          "text": [
            "True\n",
            "True\n"
          ]
        }
      ]
    }
  ]
}